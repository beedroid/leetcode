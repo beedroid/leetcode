{
  "nbformat": 4,
  "nbformat_minor": 0,
  "metadata": {
    "colab": {
      "name": "index.ipynb",
      "version": "0.3.2",
      "provenance": [],
      "include_colab_link": true
    },
    "language_info": {
      "codemirror_mode": {
        "name": "ipython",
        "version": 3
      },
      "file_extension": ".py",
      "mimetype": "text/x-python",
      "name": "python",
      "nbconvert_exporter": "python",
      "pygments_lexer": "ipython3",
      "version": "3.6.1"
    },
    "kernelspec": {
      "display_name": "Python 3",
      "language": "python",
      "name": "python3"
    }
  },
  "cells": [
    {
      "cell_type": "markdown",
      "metadata": {
        "id": "view-in-github",
        "colab_type": "text"
      },
      "source": [
        "<a href=\"https://colab.research.google.com/github/beedroid/leetcode/blob/master/index.ipynb\" target=\"_parent\"><img src=\"https://colab.research.google.com/assets/colab-badge.svg\" alt=\"Open In Colab\"/></a>"
      ]
    },
    {
      "cell_type": "markdown",
      "metadata": {
        "id": "j-xqBk1G3PCC",
        "colab_type": "text"
      },
      "source": [
        "# LEETCODE"
      ]
    },
    {
      "cell_type": "markdown",
      "metadata": {
        "id": "a7jBRLJv4Syf",
        "colab_type": "text"
      },
      "source": [
        "# Two sum\n",
        "\n",
        "* hash"
      ]
    },
    {
      "cell_type": "code",
      "metadata": {
        "id": "atl8X2gu4XXs",
        "colab_type": "code",
        "colab": {
          "base_uri": "https://localhost:8080/",
          "height": 34
        },
        "outputId": "9dd69c8b-f01e-4d2f-c440-357f240b44e9"
      },
      "source": [
        "class Solution(object):\n",
        "    def twoSum(self, nums, target):\n",
        "        \"\"\"\n",
        "        :type nums: List[int]\n",
        "        :type target: int\n",
        "        :rtype: List[int]\n",
        "        \"\"\"\n",
        "        for i in range(len(nums)):\n",
        "            for j in range(i+1, len(nums)):\n",
        "                if nums[i]+nums[j]==target:\n",
        "                    return [i, j]\n",
        "if __name__ == '__main__':\n",
        "\tresult = Solution().twoSum([2, 7, 11, 15], 9)\n",
        "\tprint(result)"
      ],
      "execution_count": 2,
      "outputs": [
        {
          "output_type": "stream",
          "text": [
            "[0, 1]\n"
          ],
          "name": "stdout"
        }
      ]
    },
    {
      "cell_type": "code",
      "metadata": {
        "id": "VLrfoI78404V",
        "colab_type": "code",
        "colab": {
          "base_uri": "https://localhost:8080/",
          "height": 34
        },
        "outputId": "20fb77eb-7843-42a0-80fe-c7074f318543"
      },
      "source": [
        "# hash\n",
        "class Solution:\n",
        "\tdef twoSum(self, nums, target):\n",
        "\t\tdicts = {}\n",
        "\t\tfor i in range(len(nums)):\n",
        "\t\t\tif (target - nums[i]) in dicts and dicts[target - nums[i]] != i:\n",
        "\t\t\t\treturn dicts[target - nums[i]], i\n",
        "\t\t\telse:\n",
        "\t\t\t\tdicts[nums[i]] = i\n",
        "if __name__ == '__main__':\n",
        "\ts = Solution();\n",
        "\tresult = s.twoSum([2, 7, 11, 15], 9)\n",
        "\tprint(result)"
      ],
      "execution_count": 3,
      "outputs": [
        {
          "output_type": "stream",
          "text": [
            "(0, 1)\n"
          ],
          "name": "stdout"
        }
      ]
    }
  ]
}